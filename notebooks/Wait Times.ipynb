{
 "cells": [
  {
   "cell_type": "markdown",
   "id": "782eb095",
   "metadata": {},
   "source": [
    "# Wait Times\n",
    "\n",
    "How are wait times related to the number of vehicles and their location? There is a hypothesis that the distance between one point and the nearest of N random points goes as the square root of N. This notebook is just some experiments to see if that holds, and to find out what the relationship is."
   ]
  },
  {
   "cell_type": "code",
   "execution_count": 1,
   "id": "a0715e56",
   "metadata": {},
   "outputs": [],
   "source": [
    "# imports and constants\n",
    "# import random\n",
    "import math\n",
    "# Add the ridehail directory (..) to the system path to import ridehail modules\n",
    "# See https://stackoverflow.com/questions/34478398/import-local-function-from-a-module-housed-in-another-directory-with-relative-im\n",
    "\n",
    "import os\n",
    "import sys\n",
    "module_path = os.path.abspath(os.path.join('..'))\n",
    "if module_path not in sys.path:\n",
    "    sys.path.append(module_path)\n",
    "from ridehail.atom import City\n",
    "DEFAULT_CITY_SIZE = 32\n",
    "DEFAULT_SAMPLE_SIZE = 100"
   ]
  },
  {
   "cell_type": "markdown",
   "id": "3e07291e",
   "metadata": {},
   "source": [
    "## City geometry\n",
    "\n",
    "### Locations in a city\n",
    "\n",
    "A city is a square grid of blocks with roads one \"block\" apart. The possible locations for vehicles and trips are at the intersections of the grid. For technical reasons the numbering starts at zero, so both the x and y coordinates are whole numbers from 0 to one less than the size of the city."
   ]
  },
  {
   "cell_type": "code",
   "execution_count": 2,
   "id": "8c7f81b3",
   "metadata": {},
   "outputs": [
    {
     "name": "stdout",
     "output_type": "stream",
     "text": [
      "A trip request is made at [2, 2]\n",
      "A trip request is made at [2, 2]\n",
      "A trip request is made at [0, 0]\n",
      "A trip request is made at [0, 3]\n",
      "A trip request is made at [0, 0]\n",
      "A trip request is made at [1, 1]\n"
     ]
    }
   ],
   "source": [
    "city_size = 4\n",
    "city = City(city_size=city_size)\n",
    "for i in range(6):\n",
    "    print(f\"A trip request is made at {city.set_trip_location()}\")"
   ]
  },
  {
   "cell_type": "markdown",
   "id": "cb001af4",
   "metadata": {},
   "source": [
    "## Distances in the city\n",
    "\n",
    "One peculiarity of this model is that vehicles can drive off one edge and appear immediately at the opposite edge.\n",
    "\n",
    "This setup simplifies things in that each location is identical to any other location, and a city is defined solely by its size. Topologically, this makes the city a doughnut shape which seems unlikely. It may be better to think that any actual fixed city or other region has boundaries, and vehicles can always cross those boundaries, leaving and entering the city. So you can think of this setup as a steady state in which vehicles are entering and leaving at the same rate.\n",
    "\n",
    "Here is a trip request made at a random location (printed) and the distances to a set of vehicles scattered around the city. You can do the arithmetic to see how the distances work."
   ]
  },
  {
   "cell_type": "code",
   "execution_count": 3,
   "id": "9529624c",
   "metadata": {},
   "outputs": [
    {
     "name": "stdout",
     "output_type": "stream",
     "text": [
      "A trip request is made at [1, 1]\n",
      "The vehicle at [0, 2] is 2 blocks away\n",
      "The vehicle at [2, 1] is 1 blocks away\n",
      "The vehicle at [1, 1] is 0 blocks away\n",
      "The vehicle at [3, 3] is 4 blocks away\n",
      "The vehicle at [1, 0] is 1 blocks away\n",
      "The vehicle at [2, 0] is 2 blocks away\n"
     ]
    }
   ],
   "source": [
    "sample_size = 6\n",
    "city_size = 4\n",
    "city = City(city_size=city_size)\n",
    "trip_request_point = city.set_trip_location()\n",
    "print(f\"A trip request is made at {trip_request_point}\")\n",
    "for i in range(sample_size):\n",
    "    vehicle_location = city.set_trip_location()\n",
    "    print(f\"The vehicle at {vehicle_location} is {city.distance(trip_request_point, vehicle_location)} blocks away\")"
   ]
  },
  {
   "cell_type": "markdown",
   "id": "79645788",
   "metadata": {},
   "source": [
    "The next cell shows that the average distance between two randomly selected points is half the city size. It won't be exact of course, but for large sample sizes it is increasingly close."
   ]
  },
  {
   "cell_type": "code",
   "execution_count": 4,
   "id": "b2fe11dd",
   "metadata": {},
   "outputs": [
    {
     "name": "stdout",
     "output_type": "stream",
     "text": [
      "For a city of 16 by 16 blocks, the average distance between two randomly-selected points is 8.00 blocks\n"
     ]
    }
   ],
   "source": [
    "sample_size = 100000\n",
    "city_size = 16\n",
    "city = City(city_size=city_size)\n",
    "average_distance = 0.0\n",
    "for i in range(sample_size):\n",
    "    average_distance += city.distance(city.set_trip_location(), city.set_trip_location())\n",
    "average_distance = average_distance / sample_size\n",
    "print(\n",
    "    f\"For a city of {city_size} by {city_size} blocks, the average distance \"\n",
    "    f\"between two randomly-selected points is {average_distance:.2f} blocks\")"
   ]
  },
  {
   "cell_type": "markdown",
   "id": "b8fafd7f",
   "metadata": {},
   "source": [
    "## Wait times\n",
    "\n",
    "When a trip request is made, there may be a number of available vehicles scattered around the city. The trip is assigned to the nearest vehicle (if there are several an equal distance away, one of those is picked).\n",
    "\n",
    "The city block can be thought of as a distance or a time. The wait time is the number of blocks from the assigned vehicle to the request location.\n",
    "\n",
    "The question is, how does the average wait time for a request change with the number of available vehicles? And if there are several requests made at once, what is the average wait time for those requests?\n",
    "\n",
    "Here are a few functions to set a number of vehicle locations in a city at once, and to get the wait time to a location from among those vehicles. Also, as we are dealing with randomness and averages, there is a function that repeatedly sets a trip location, computes the wait time for a set of N vehicles, and then gives the average."
   ]
  },
  {
   "cell_type": "code",
   "execution_count": 5,
   "id": "4ed3e30b",
   "metadata": {},
   "outputs": [],
   "source": [
    "def set_vehicle_locations(vehicle_count, city):\n",
    "    vehicle_locations = []\n",
    "    for vehicle in range(0,vehicle_count):\n",
    "        vehicle_locations.append(city.set_trip_location())\n",
    "    return vehicle_locations\n",
    "\n",
    "def get_wait_time(request_location, vehicle_locations, city, allow_zero_wait_times=True):\n",
    "    if allow_zero_wait_times:\n",
    "        vehicle_distances = [city.distance(request_location, vehicle) for vehicle in vehicle_locations]\n",
    "    else:\n",
    "        vehicle_distances = [max(city.distance(request_location, vehicle), 1) for vehicle in vehicle_locations]\n",
    "    min_distance = min(vehicle_distances)\n",
    "    mean_distance = float(sum(vehicle_distances))/float(len(vehicle_distances))\n",
    "    return (min_distance, \n",
    "            mean_distance)\n",
    "\n",
    "def mean_request_wait_time(vehicle_count, city, sample_size=DEFAULT_SAMPLE_SIZE):\n",
    "    mean_wait_time = 0\n",
    "    mean_all_distance = 0\n",
    "    for i in range(0,sample_size):\n",
    "        request_location = city.set_trip_location()\n",
    "        vehicle_locations = set_vehicle_locations(vehicle_count, city)\n",
    "        (wait_time, mean_distance) = get_wait_time(request_location, vehicle_locations, city)\n",
    "        mean_wait_time += wait_time\n",
    "        mean_all_distance += mean_distance\n",
    "    mean_wait_time = float(mean_wait_time) / float(sample_size)\n",
    "    mean_all_distance = float(mean_all_distance) / float(sample_size)\n",
    "    return (mean_wait_time, mean_all_distance)"
   ]
  },
  {
   "cell_type": "markdown",
   "id": "eab027df",
   "metadata": {},
   "source": [
    "## Wait times for a single request\n",
    "\n",
    "Now we can carry out some experiments. Here you can set a sample size, a city size, and a range of vehicle counts, and print out the wait time.\n",
    "\n",
    "I had seen some suggestion that the wait time should be like the square root of the number of cars. You can see here that for this city, that's not too bad. An estimate is that the wait time for a single request is:\n",
    "\n",
    "$W = L / \\sqrt(N)$\n",
    "\n",
    "where L is the average separation of the $N$ vehicles.\n",
    "\n",
    "This seems to underestimate by about 20% at small vehicle counts, and overestimate at large vehicle counts (when the wait time is significantly less than one block)."
   ]
  },
  {
   "cell_type": "code",
   "execution_count": 6,
   "id": "e95b0def",
   "metadata": {},
   "outputs": [
    {
     "name": "stdout",
     "output_type": "stream",
     "text": [
      "Vehicles | Mean distance | Wait Time | Estimate | Error |\n",
      "       4 |         16.01 |      9.12 |     8.01 |  -12% |\n",
      "       3 |         15.99 |     10.24 |     9.23 |  -10% |\n",
      "       2 |         15.90 |     12.08 |    11.25 |   -7% |\n",
      "       1 |         16.07 |     16.07 |    16.07 |    0% |\n",
      "      32 |         15.95 |      3.36 |     2.82 |  -16% |\n",
      "      64 |         15.99 |      2.36 |     2.00 |  -15% |\n",
      "      96 |         16.02 |      1.95 |     1.63 |  -16% |\n",
      "     128 |         15.99 |      1.65 |     1.41 |  -14% |\n",
      "     160 |         16.02 |      1.49 |     1.27 |  -15% |\n",
      "     192 |         15.99 |      1.26 |     1.15 |   -8% |\n",
      "     224 |         15.99 |      1.23 |     1.07 |  -13% |\n",
      "     256 |         16.00 |      1.10 |     1.00 |   -9% |\n",
      "     288 |         15.99 |      1.00 |     0.94 |   -5% |\n",
      "     320 |         16.00 |      0.94 |     0.89 |   -5% |\n",
      "     352 |         15.98 |      0.90 |     0.85 |   -6% |\n",
      "     384 |         16.01 |      0.84 |     0.82 |   -3% |\n",
      "     416 |         15.99 |      0.85 |     0.78 |   -8% |\n",
      "     448 |         16.00 |      0.77 |     0.76 |   -2% |\n",
      "     480 |         15.98 |      0.72 |     0.73 |    2% |\n"
     ]
    }
   ],
   "source": [
    "sample_size = 1000\n",
    "city_size = 32\n",
    "city=City(city_size)\n",
    "min_vehicle_count = 100\n",
    "max_vehicle_count = 1000\n",
    "vehicle_count_increment = 100\n",
    "vehicle_count_list = [city_size * x for x in range(1,16)]\n",
    "for i in range(1,5):\n",
    "    vehicle_count_list.insert(0, i)\n",
    "# vehicle_count_list += list(range(min_vehicle_count, max_vehicle_count + 1, vehicle_count_increment))\n",
    "print(f\"Vehicles | Mean distance | Wait Time | Estimate | Error |\")\n",
    "for vehicle_count in vehicle_count_list:\n",
    "    (mean_wait_time, mean_all_distance) = mean_request_wait_time(vehicle_count, city, sample_size)\n",
    "    estimate = mean_all_distance / (math.pow((vehicle_count), 0.5))\n",
    "    error = 100.0 * (estimate - mean_wait_time) / mean_wait_time\n",
    "    print(f\"{vehicle_count:8d} | {mean_all_distance:13.2f} | {mean_wait_time:9.2f} | \"\n",
    "          f\"{estimate:8.2f} | {error:4.0f}% |\")"
   ]
  },
  {
   "cell_type": "markdown",
   "id": "0aacc0da",
   "metadata": {},
   "source": [
    "## Average wait times with multiple requests\n",
    "\n",
    "Now suppose $R$ trip requests are made at once, and there are $N$ vehicles available to grant them.\n",
    "\n",
    "Assign the trips sequentially: the first trip should have an average wait time of $L/\\sqrt(N)$, the second $L/\\sqrt(N-1)$, and so on until all $R$ trips are assigned. The average wait time should therefore be:\n",
    "\n",
    "$<W> = (L/R) \\sum_{i=1}^{R} 1/\\sqrt(N - i)$\n",
    "\n",
    "This section assumes we can repeat with smaller numbers of vehicles, rather than removing a specific vehicle each time."
   ]
  },
  {
   "cell_type": "code",
   "execution_count": 11,
   "id": "3ffcd764",
   "metadata": {},
   "outputs": [
    {
     "name": "stdout",
     "output_type": "stream",
     "text": [
      "Request | Vehicles | Wait Time | Estimate | Error |\n",
      "      0 |      240 |      0.38 |     0.52 |   35% |\n",
      "      1 |      239 |      0.39 |     0.52 |   32% |\n",
      "      2 |      238 |      0.42 |     0.52 |   23% |\n",
      "      3 |      237 |      0.41 |     0.52 |   28% |\n",
      "      4 |      236 |      0.42 |     0.52 |   25% |\n",
      "      5 |      235 |      0.42 |     0.52 |   23% |\n",
      "      6 |      234 |      0.39 |     0.52 |   34% |\n",
      "      7 |      233 |      0.43 |     0.52 |   22% |\n",
      "      8 |      232 |      0.41 |     0.53 |   29% |\n",
      "      9 |      231 |      0.43 |     0.53 |   23% |\n",
      "     10 |      230 |      0.43 |     0.53 |   22% |\n",
      "     11 |      229 |      0.43 |     0.53 |   22% |\n",
      "     12 |      228 |      0.43 |     0.53 |   23% |\n",
      "     13 |      227 |      0.42 |     0.53 |   27% |\n",
      "     14 |      226 |      0.43 |     0.53 |   23% |\n",
      "     15 |      225 |      0.43 |     0.53 |   23% |\n",
      "     16 |      224 |      0.42 |     0.53 |   26% |\n",
      "     17 |      223 |      0.42 |     0.54 |   28% |\n",
      "     18 |      222 |      0.42 |     0.54 |   28% |\n",
      "     19 |      221 |      0.42 |     0.54 |   29% |\n",
      "     20 |      220 |      0.44 |     0.54 |   23% |\n",
      "     21 |      219 |      0.47 |     0.54 |   16% |\n",
      "     22 |      218 |      0.45 |     0.54 |   21% |\n",
      "     23 |      217 |      0.45 |     0.54 |   21% |\n",
      "--------------------------------------------------------------------------------\n",
      "Request count=24 | Vehicle_count=240 | Mean wait time=0.42 | Estimate=0.53 | Error=25%\n"
     ]
    }
   ],
   "source": [
    "sample_size = 1000\n",
    "city_size = 16\n",
    "request_count = 24\n",
    "vehicle_count = 240\n",
    "city=City(city_size)\n",
    "mean_over_requests_wait_time = 0\n",
    "mean_over_requests_distance = 0\n",
    "mean_over_requests_wait_time_estimate = 0\n",
    "print(f\"Request | Vehicles | Wait Time | Estimate | Error |\")\n",
    "for r in range(request_count):\n",
    "    if r >= vehicle_count:\n",
    "        print(\"R is bigger than vehicle_count\")\n",
    "        break\n",
    "    # Get the (sampled) wait time for the request with (vehicle_count - r) available vehicles\n",
    "    (mean_wait_time, mean_all_distance) = mean_request_wait_time(vehicle_count - r, city, sample_size)\n",
    "    mean_over_requests_wait_time += mean_wait_time\n",
    "    mean_over_requests_distance += mean_all_distance\n",
    "    wait_time_estimate = mean_all_distance * math.pow((vehicle_count - r), -0.5)\n",
    "    mean_over_requests_wait_time_estimate += wait_time_estimate\n",
    "    error = 100.0 * (wait_time_estimate - mean_wait_time) / mean_wait_time\n",
    "    print(f\"{r:7d} | {vehicle_count - r:8d} | {mean_wait_time:9.2f} | \"\n",
    "          f\"{wait_time_estimate:8.2f} | {error:4.0f}% |\")\n",
    "mean_over_requests_wait_time = mean_over_requests_wait_time / float(request_count)\n",
    "mean_over_requests_distance = mean_over_requests_distance / float(request_count)\n",
    "mean_over_requests_wait_time_estimate /= request_count\n",
    "error = 100.0 * (mean_over_requests_wait_time_estimate - mean_over_requests_wait_time)/ mean_over_requests_wait_time\n",
    "print(\"-\" * 80)\n",
    "print(f\"Request count={request_count:d} | Vehicle_count={vehicle_count:d} |\"\n",
    "    f\" Mean wait time={mean_over_requests_wait_time:.2f} | Estimate={mean_over_requests_wait_time_estimate:.2f} |\"\n",
    "     f\" Error={error:.0f}%\")"
   ]
  },
  {
   "cell_type": "code",
   "execution_count": 8,
   "id": "b6bc7915",
   "metadata": {},
   "outputs": [
    {
     "name": "stdout",
     "output_type": "stream",
     "text": [
      "7.00251\n"
     ]
    }
   ],
   "source": [
    "city_size = 14\n",
    "city=City(city_size)\n",
    "sample_size = 100000\n",
    "dist = 0.0\n",
    "for i in range(sample_size):\n",
    "    dist += city.distance(city.set_trip_location(), city.set_trip_location())\n",
    "print(dist/float(sample_size))"
   ]
  },
  {
   "cell_type": "code",
   "execution_count": 9,
   "id": "48d7b13c",
   "metadata": {},
   "outputs": [
    {
     "name": "stdout",
     "output_type": "stream",
     "text": [
      "3\n",
      "[4, 7] 5\n",
      "[0, 1] 1\n",
      "[0, 2] 2\n",
      "[0, 5] 5\n",
      "[2, 5] 5\n",
      "[0, 4] 4\n",
      "[2, 5] 5\n",
      "[6, 2] 4\n",
      "[5, 3] 6\n",
      "[4, 7] 5\n"
     ]
    }
   ],
   "source": [
    "city_size = 8\n",
    "city=City(city_size)\n",
    "print(city.distance((1,1), (7, 2)))\n",
    "for i in range(10):\n",
    "    loc = city.set_trip_location()\n",
    "    print(loc, city.distance((1,1), loc))"
   ]
  },
  {
   "cell_type": "code",
   "execution_count": null,
   "id": "88d0c9d0",
   "metadata": {},
   "outputs": [],
   "source": []
  }
 ],
 "metadata": {
  "kernelspec": {
   "display_name": "Python 3 (ipykernel)",
   "language": "python",
   "name": "python3"
  },
  "language_info": {
   "codemirror_mode": {
    "name": "ipython",
    "version": 3
   },
   "file_extension": ".py",
   "mimetype": "text/x-python",
   "name": "python",
   "nbconvert_exporter": "python",
   "pygments_lexer": "ipython3",
   "version": "3.9.7"
  }
 },
 "nbformat": 4,
 "nbformat_minor": 5
}
